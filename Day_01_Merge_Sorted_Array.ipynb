{
 "cells": [
  {
   "cell_type": "markdown",
   "id": "292530e2-be3b-4b1d-9bf0-040eaee8c338",
   "metadata": {},
   "source": [
    "Day 1: Merge Sorted Array"
   ]
  },
  {
   "cell_type": "markdown",
   "id": "abf6e813-be45-4a9b-86c4-74d703b8de95",
   "metadata": {},
   "source": [
    "You are given two integer arrays nums1 and nums2, sorted in non-decreasing order, and two integers m and n, representing the number of elements in nums1 and nums2 respectively.\r\n",
    "\r\n",
    "Merge nums1 and nums2 into a single array sorted in non-decreasing order.\r\n",
    "\r\n",
    "The final sorted array should not be returned by the function, but instead be stored inside the array nums1. To accommodate this, nums1 has a length of m + n, where the first m elements denote the elements that should be merged, and the last n elements are set to 0 and should be ignored. nums2 has a length of n.\r\n",
    "\r\n",
    "Example 1:\r\n",
    "\r\n",
    "Input: nums1 = [1,2,3,0,0,0], m = 3, nums2 = [2,5,6], n = 3\r\n",
    "Output: [1,2,2,3,5,6]\r\n",
    "Explanation: The arrays we are merging are [1,2,3] and [2,5,6].\r\n",
    "The result of the merge is [1,2,2,3,5,6] with the underlined elements coming from nums1.\r\n",
    "Example 2:\r\n",
    "\r\n",
    "Input: nums1 = [1], m = 1, nums2 = [], n = 0\r\n",
    "Output: [1]\r\n",
    "Explanation: The arrays we are merging are [1] and [].\r\n",
    "The result of the merge is [1].\r\n",
    "Example 3:\r\n",
    "\r\n",
    "Input: nums1 = [0], m = 0, nums2 = [1], n = 1\r\n",
    "Output: [1]\r\n",
    "Explanation: The arrays we are merging are [] and [1].\r\n",
    "The result of the merge is [1].\r\n",
    "Note that because m = 0, there are no elements in nums1. The 0 is only there to ensure the merge result can fit in nums1.\r\n",
    " \r\n",
    "Constraints:\r\n",
    "\r\n",
    "nums1.length == m + n\r\n",
    "nums2.length == n\r\n",
    "0 <= m, n <= 200\r\n",
    "1 <= m + n <= 200\r\n",
    "-109 <= nums1[i], nums2[j] <= 109\r\n",
    " \r\n",
    "\r\n",
    "Follow up: Can you come up with an algorithm that runs in O(m + n) time?\r\n"
   ]
  },
  {
   "cell_type": "code",
   "execution_count": 1,
   "id": "66d9d1cb-a258-4bbd-a4bc-2f7e5a9a2e17",
   "metadata": {},
   "outputs": [],
   "source": [
    "def merge(nums1, m, nums2, n):\n",
    "        for j in range(n):\n",
    "            nums1[m+j]=nums2[j]\n",
    "        return nums1.sort()"
   ]
  }
 ],
 "metadata": {
  "kernelspec": {
   "display_name": "Python 3 (ipykernel)",
   "language": "python",
   "name": "python3"
  },
  "language_info": {
   "codemirror_mode": {
    "name": "ipython",
    "version": 3
   },
   "file_extension": ".py",
   "mimetype": "text/x-python",
   "name": "python",
   "nbconvert_exporter": "python",
   "pygments_lexer": "ipython3",
   "version": "3.11.7"
  }
 },
 "nbformat": 4,
 "nbformat_minor": 5
}
